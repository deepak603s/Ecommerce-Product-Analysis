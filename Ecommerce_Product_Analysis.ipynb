{
 "cells": [
  {
   "cell_type": "code",
   "execution_count": 1,
   "id": "352897d6-184a-487a-a44d-80e87664c759",
   "metadata": {},
   "outputs": [],
   "source": [
    "import pandas as pd\n",
    "import matplotlib.pyplot as plt\n",
    "import seaborn as sns\n",
    "\n",
    "plt.style.use('ggplot')\n",
    "%matplotlib inline\n",
    "\n"
   ]
  },
  {
   "cell_type": "code",
   "execution_count": 2,
   "id": "c20f3554-f9bc-4f80-8f25-55fbe15c6537",
   "metadata": {},
   "outputs": [],
   "source": [
    "df_users = pd.read_csv(\"D:\\\\Ecommerce-Product-Analysis\\\\users.csv\")\n",
    "df_products = pd.read_csv(\"D:\\\\Ecommerce-Product-Analysis\\\\products.csv\")\n",
    "df_orders = pd.read_csv(\"D:\\\\Ecommerce-Product-Analysis\\\\orders.csv\")\n",
    "df_cart = pd.read_csv(\"D:\\\\Ecommerce-Product-Analysis\\\\cart.csv\")\n",
    "df_reviews = pd.read_csv(\"D:\\\\Ecommerce-Product-Analysis\\\\reviews.csv\")\n"
   ]
  },
  {
   "cell_type": "code",
   "execution_count": 3,
   "id": "d1994092-de34-4f7d-8aff-95fb264e247c",
   "metadata": {},
   "outputs": [
    {
     "data": {
      "image/png": "[encoded data removed]",
      "text/plain": [
       "<Figure size 640x480 with 1 Axes>"
      ]
     },
     "metadata": {},
     "output_type": "display_data"
    }
   ],
   "source": [
    "# Orders by category\n",
    "merged = df_orders.merge(df_products, on='product_id')\n",
    "category_sales = merged.groupby(\"category\")[\"total_amount\"].sum().sort_values(ascending=False)\n",
    "\n",
    "category_sales.plot(kind='bar', title='Sales by Category')\n",
    "plt.ylabel('Total Sales')\n",
    "plt.show()\n"
   ]
  },
  {
   "cell_type": "code",
   "execution_count": 4,
   "id": "2444d9f7-8409-4c56-8725-476db27710d2",
   "metadata": {},
   "outputs": [
    {
     "name": "stdout",
     "output_type": "stream",
     "text": [
      "Cart Abandonment Rate: 30.12%\n"
     ]
    }
   ],
   "source": [
    "# Cart abandonment rate\n",
    "abandoned = df_cart[df_cart['action'] == 'Abandoned'].shape[0]\n",
    "ordered = df_cart[df_cart['action'] == 'Ordered'].shape[0]\n",
    "ab_rate = abandoned / (abandoned + ordered)\n",
    "\n",
    "print(f\"Cart Abandonment Rate: {ab_rate:.2%}\")\n"
   ]
  },
  {
   "cell_type": "code",
   "execution_count": 5,
   "id": "828ac731-366d-4c84-9deb-2f1349af15fb",
   "metadata": {},
   "outputs": [
    {
     "data": {
      "text/html": [
       "<div>\n",
       "<style scoped>\n",
       "    .dataframe tbody tr th:only-of-type {\n",
       "        vertical-align: middle;\n",
       "    }\n",
       "\n",
       "    .dataframe tbody tr th {\n",
       "        vertical-align: top;\n",
       "    }\n",
       "\n",
       "    .dataframe thead th {\n",
       "        text-align: right;\n",
       "    }\n",
       "</style>\n",
       "<table border=\"1\" class=\"dataframe\">\n",
       "  <thead>\n",
       "    <tr style=\"text-align: right;\">\n",
       "      <th></th>\n",
       "      <th>name</th>\n",
       "      <th>rating</th>\n",
       "      <th>category</th>\n",
       "    </tr>\n",
       "  </thead>\n",
       "  <tbody>\n",
       "    <tr>\n",
       "      <th>25</th>\n",
       "      <td>Six Electronics</td>\n",
       "      <td>5.0</td>\n",
       "      <td>Electronics</td>\n",
       "    </tr>\n",
       "    <tr>\n",
       "      <th>54</th>\n",
       "      <td>Simply Books</td>\n",
       "      <td>5.0</td>\n",
       "      <td>Books</td>\n",
       "    </tr>\n",
       "    <tr>\n",
       "      <th>88</th>\n",
       "      <td>Him Fashion</td>\n",
       "      <td>4.9</td>\n",
       "      <td>Fashion</td>\n",
       "    </tr>\n",
       "    <tr>\n",
       "      <th>52</th>\n",
       "      <td>Hundred Home</td>\n",
       "      <td>4.8</td>\n",
       "      <td>Home</td>\n",
       "    </tr>\n",
       "    <tr>\n",
       "      <th>41</th>\n",
       "      <td>Whom Electronics</td>\n",
       "      <td>4.7</td>\n",
       "      <td>Electronics</td>\n",
       "    </tr>\n",
       "    <tr>\n",
       "      <th>47</th>\n",
       "      <td>College Home</td>\n",
       "      <td>4.7</td>\n",
       "      <td>Home</td>\n",
       "    </tr>\n",
       "    <tr>\n",
       "      <th>77</th>\n",
       "      <td>Kid Electronics</td>\n",
       "      <td>4.7</td>\n",
       "      <td>Electronics</td>\n",
       "    </tr>\n",
       "    <tr>\n",
       "      <th>75</th>\n",
       "      <td>Despite Home</td>\n",
       "      <td>4.7</td>\n",
       "      <td>Home</td>\n",
       "    </tr>\n",
       "    <tr>\n",
       "      <th>65</th>\n",
       "      <td>Herself Fashion</td>\n",
       "      <td>4.6</td>\n",
       "      <td>Fashion</td>\n",
       "    </tr>\n",
       "    <tr>\n",
       "      <th>17</th>\n",
       "      <td>Public Books</td>\n",
       "      <td>4.6</td>\n",
       "      <td>Books</td>\n",
       "    </tr>\n",
       "  </tbody>\n",
       "</table>\n",
       "</div>"
      ],
      "text/plain": [
       "                name  rating     category\n",
       "25   Six Electronics     5.0  Electronics\n",
       "54      Simply Books     5.0        Books\n",
       "88       Him Fashion     4.9      Fashion\n",
       "52      Hundred Home     4.8         Home\n",
       "41  Whom Electronics     4.7  Electronics\n",
       "47      College Home     4.7         Home\n",
       "77   Kid Electronics     4.7  Electronics\n",
       "75      Despite Home     4.7         Home\n",
       "65   Herself Fashion     4.6      Fashion\n",
       "17      Public Books     4.6        Books"
      ]
     },
     "execution_count": 5,
     "metadata": {},
     "output_type": "execute_result"
    }
   ],
   "source": [
    "# Top 10 products by rating\n",
    "top_rated = df_products.sort_values(by='rating', ascending=False).head(10)\n",
    "top_rated[['name', 'rating', 'category']]\n"
   ]
  },
  {
   "cell_type": "code",
   "execution_count": null,
   "id": "11accc51-5ac1-4e8f-8aab-954fd0c1e143",
   "metadata": {},
   "outputs": [],
   "source": []
  }
 ],
 "metadata": {
  "kernelspec": {
   "display_name": "Python 3 (ipykernel)",
   "language": "python",
   "name": "python3"
  },
  "language_info": {
   "codemirror_mode": {
    "name": "ipython",
    "version": 3
   },
   "file_extension": ".py",
   "mimetype": "text/x-python",
   "name": "python",
   "nbconvert_exporter": "python",
   "pygments_lexer": "ipython3",
   "version": "3.13.3"
  }
 },
 "nbformat": 4,
 "nbformat_minor": 5
}
